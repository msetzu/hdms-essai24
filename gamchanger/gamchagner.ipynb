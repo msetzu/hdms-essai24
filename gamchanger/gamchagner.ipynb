{
 "cells": [
  {
   "cell_type": "markdown",
   "id": "24b42f25-97bc-449e-b1c4-3d1b19369bb2",
   "metadata": {},
   "source": [
    "# Gamchanger\n",
    "Learning toghether system based on interpretable by design models.\n",
    "\n",
    "[GAM paper](https://dl.acm.org/doi/10.1145/2783258.2788613) |\n",
    "[Web interface](https://interpret.ml/gam-changer/) |\n",
    "[Implementation](https://github.com/interpretml/gam-changer)"
   ]
  },
  {
   "cell_type": "code",
   "execution_count": null,
   "id": "230d4de4-d0e9-432b-bf62-d5a0039179b3",
   "metadata": {},
   "outputs": [],
   "source": [
    "!pip install interpret gamchanger datasets"
   ]
  },
  {
   "cell_type": "code",
   "execution_count": null,
   "id": "2a5dd253-6932-44e3-9384-cd833637e41e",
   "metadata": {},
   "outputs": [],
   "source": [
    "import pprint\n",
    "\n",
    "from datasets import load_dataset\n",
    "from sklearn.metrics import classification_report\n",
    "\n",
    "from interpret.glassbox import ExplainableBoostingClassifier\n",
    "from sklearn.model_selection import train_test_split"
   ]
  },
  {
   "cell_type": "markdown",
   "id": "6ebb4e9a-e4f7-484f-9662-27a4cea2cf5b",
   "metadata": {},
   "source": [
    "### Load data"
   ]
  },
  {
   "cell_type": "code",
   "execution_count": null,
   "id": "d10e1302-3859-4796-90a0-33923a00db06",
   "metadata": {},
   "outputs": [],
   "source": [
    "########\n",
    "# Data #\n",
    "########\n",
    "dataset = load_dataset(\"mstz/adult\", \"income\")[\"train\"].to_pandas()\n",
    "dataset = dataset.select_dtypes(include=\"number\")\n",
    "features, labels = dataset[dataset.columns.tolist()[:-1]], dataset.values[:, -1]\n",
    "\n",
    "features_train, features_test, labels_train, labels_test = train_test_split(features, labels,\n",
    "                                                                            stratify=labels, random_state=1)"
   ]
  },
  {
   "cell_type": "markdown",
   "id": "63d80c22-e330-4db9-9b8f-acd3acfb49e6",
   "metadata": {},
   "source": [
    "### Train the GAM model"
   ]
  },
  {
   "cell_type": "code",
   "execution_count": null,
   "id": "c66b2624-ba6e-406b-aa91-5d5f2b9f27f6",
   "metadata": {},
   "outputs": [],
   "source": [
    "########\n",
    "# Model #\n",
    "########\n",
    "base_model = ExplainableBoostingClassifier()\n",
    "base_model.fit(\n",
    "    features_train,\n",
    "    labels_train\n",
    ")"
   ]
  },
  {
   "cell_type": "code",
   "execution_count": null,
   "id": "05fa484f-edce-4b17-b1ac-ab72209166c1",
   "metadata": {},
   "outputs": [],
   "source": [
    "import gamchanger\n",
    "\n",
    "gamchanger.visualize(base_model, features, labels)"
   ]
  }
 ],
 "metadata": {
  "kernelspec": {
   "display_name": "Python 3 (ipykernel)",
   "language": "python",
   "name": "python3"
  },
  "language_info": {
   "codemirror_mode": {
    "name": "ipython",
    "version": 3
   },
   "file_extension": ".py",
   "mimetype": "text/x-python",
   "name": "python",
   "nbconvert_exporter": "python",
   "pygments_lexer": "ipython3",
   "version": "3.12.3"
  }
 },
 "nbformat": 4,
 "nbformat_minor": 5
}
